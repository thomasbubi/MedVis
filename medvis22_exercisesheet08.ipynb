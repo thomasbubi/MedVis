{
 "cells": [
  {
   "cell_type": "markdown",
   "metadata": {
    "id": "FBg1b6Thooxs"
   },
   "source": [
    "# Exercise Sheet 08\n",
    "Interaction Techniques 2\n",
    "\n",
    "---"
   ]
  },
  {
   "cell_type": "markdown",
   "metadata": {
    "id": "4qEByQRBpyEr"
   },
   "source": [
    "# Task 01: Selection"
   ]
  },
  {
   "cell_type": "markdown",
   "metadata": {
    "id": "3sjWuAzOp1gy"
   },
   "source": [
    "**(a)** What problem can occure when a user wants to select an object in a 3D scene?\n",
    "\n",
    "**(b)** Describe 2 ways this problem can be solved.\n",
    "\n",
    "**(c)** How sure can you be that the methods you mentioned in (b) actually selects the object targeted by the user?"
   ]
  },
  {
   "cell_type": "markdown",
   "metadata": {},
   "source": [
    "----\n",
    "\n",
    "### (a)\n",
    "* ambiguities: multiple objects lie behind other ones (e.g. liver and its vessels inside)\n",
    "\n",
    "### (b)\n",
    "* use of 3 orthogonal views, user selects an object in one of those three views\n",
    "* when using triangle meshes: prefer smaller, non-transparent objects\n",
    "* show a menu with all objects along the picking ray, user can select object by choosing an entry in the menu\n",
    "\n",
    "### (c)\n",
    "* not entirely sure\n",
    "* using a list with selectable objects, this is quite probably that the right object can be selected\n",
    "* when preferring smaller objects, it might can occur that the user wanted to select the large object"
   ]
  },
  {
   "cell_type": "markdown",
   "metadata": {
    "id": "RotH1yzyrHwq"
   },
   "source": [
    "# Task 02: Clipping Planes and Cuttings"
   ]
  },
  {
   "cell_type": "markdown",
   "metadata": {
    "id": "eGMI-n_yrjf6"
   },
   "source": [
    "**(a)** Describe *slab rendering*. Why might clinicians use it instead of a simple clipping plane in some cases?\n",
    "\n",
    "**(b)** Describe *selective clipping*. Describe briefly how it works in case you have segmented data and in case you have original data (without segmentation).\n",
    "\n",
    "**(c)** What is cutting and why use it instead of, e.g., clipping?\n",
    "\n",
    "**(d)** What is a ghosted view?"
   ]
  },
  {
   "cell_type": "markdown",
   "metadata": {},
   "source": [
    "----\n",
    "\n",
    "### (a)\n",
    "* use 2 cutting planes with a fixed distance to show only a small portion of the 3d data\n",
    "* trade-off between 2d sclices and 3d overview\n",
    "\n",
    "### (b)\n",
    "* clipping plane only affects selected objects\n",
    "* segmented data: structure aware volume editing is provided\n",
    "* unsegmented data: user has to choose object that should be clipped\n",
    "\n",
    "### (c)\n",
    "* showing internal structures\n",
    "* cutting is similar to textbook illustrations, anatomical surfaces are deformed and flipped open to reveal details \n",
    "\n",
    "### (d)\n",
    "* show surfaces transparently to show internal structures"
   ]
  },
  {
   "cell_type": "markdown",
   "metadata": {
    "id": "r3loGNIdornc"
   },
   "source": [
    "# Task 03: Virtual Resection"
   ]
  },
  {
   "cell_type": "markdown",
   "metadata": {
    "id": "OwxAYuD7pRt3"
   },
   "source": [
    "**(a)** What is a resection? Think of an exmple where a resection is performed.\n",
    "\n",
    "**(b)** How can virtual resections support physicians?\n",
    "\n",
    "**(c)** Explain 2 techniques to draw in virtual resections. Describe each one example where the technique is suitable and not suitable."
   ]
  },
  {
   "cell_type": "markdown",
   "metadata": {},
   "source": [
    "----\n",
    "\n",
    "### (a)\n",
    "* a resection is the removal of soft tissue\n",
    "* e.g., removal of a tumor in the liver\n",
    "\n",
    "### (b)\n",
    "* calculate the volume of the removed tissue\n",
    "* discuss whether the resection can be performed safely\n",
    "* path planning\n",
    "\n",
    "### (c)"
   ]
  },
  {
   "cell_type": "markdown",
   "metadata": {
    "id": "Zp_Ee3jMtlO4"
   },
   "source": [
    "# Task 04: Implant Placement"
   ]
  },
  {
   "cell_type": "markdown",
   "metadata": {
    "id": "Za2Gge20tpdg"
   },
   "source": [
    "**(a)** What is local volume rendering and why is it useful?\n",
    "\n",
    "**(a)** Why is virtual implant placement useful?\n",
    "\n",
    "**(b)** Which interaction techniques are important for placing virtual implants?"
   ]
  },
  {
   "cell_type": "markdown",
   "metadata": {},
   "source": [
    "----\n",
    "\n",
    "### (a)\n",
    "* show a small portion of a volume in an extra view with a different transfer function\n",
    "* useful to hide other objects\n",
    "\n",
    "### (b)\n",
    "* to decide for the right implant\n",
    "* to simulate the intervention, how the implant is implanted\n",
    "\n",
    "### (c)\n",
    "* rotation, translation\n",
    "* collision detection"
   ]
  },
  {
   "cell_type": "markdown",
   "metadata": {
    "id": "GATByCEQuO5A"
   },
   "source": [
    "# Task 05: Measurements and Path Planning"
   ]
  },
  {
   "cell_type": "markdown",
   "metadata": {
    "id": "AlxHtFg9uSi-"
   },
   "source": [
    "**(a)** What are important aspects that can be measured in medical image data? Name 3 examples.\n",
    "\n",
    "**(b)** What is a (3D) widget? Name an example for a widget that supports measuring.\n",
    "\n",
    "**(c)** What is an ideal path in interventional radiology?\n",
    "\n",
    "**(d)** Name one example where path planning can be used. Why is path planning useful in that case? What are critical anatomical structures? "
   ]
  },
  {
   "cell_type": "markdown",
   "metadata": {},
   "source": [
    "----\n",
    "\n",
    "### (a)\n",
    "* volume\n",
    "* angles\n",
    "* length/distance\n",
    "\n",
    "### (b)\n",
    "* interactive (3D) tool\n",
    "* angle measurement, where the positions to calculate the angle can be moved interactively\n",
    "\n",
    "### (c)\n",
    "* an ideal path in interventional radiology is short, easy to accomplish and has a low risk to adjacent structures, e.g. it cannot go through bones and must not damage major vessels\n",
    "\n",
    "### (d)\n",
    "* can be used for tumor ablation (destroying tumors with heat)\n",
    "* placing the ablator in the patient is not visible for the physicians\n",
    "  * position of bones need to be considered (path cannot go through bones)\n",
    "* critical structures are vessels (should not be damaged)"
   ]
  }
 ],
 "metadata": {
  "colab": {
   "collapsed_sections": [],
   "name": "medvis22_exercisesheet08.ipynb",
   "provenance": []
  },
  "kernelspec": {
   "display_name": "Python 3 (ipykernel)",
   "language": "python",
   "name": "python3"
  },
  "language_info": {
   "codemirror_mode": {
    "name": "ipython",
    "version": 3
   },
   "file_extension": ".py",
   "mimetype": "text/x-python",
   "name": "python",
   "nbconvert_exporter": "python",
   "pygments_lexer": "ipython3",
   "version": "3.10.4"
  }
 },
 "nbformat": 4,
 "nbformat_minor": 1
}
