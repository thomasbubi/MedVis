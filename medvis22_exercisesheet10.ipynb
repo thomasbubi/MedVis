{
 "cells": [
  {
   "cell_type": "markdown",
   "metadata": {
    "id": "jlTTjDQO2Zfu"
   },
   "source": [
    "# Exercise Sheet 10\n",
    "Vessel Visualization\n",
    "\n",
    "---"
   ]
  },
  {
   "cell_type": "markdown",
   "metadata": {
    "id": "nEY-Enda3kF8"
   },
   "source": [
    "# Task 01: Conventional Vessel Visualization"
   ]
  },
  {
   "cell_type": "markdown",
   "metadata": {
    "id": "zexr4Xqn3oDn"
   },
   "source": [
    "**(a)** Name three goals and/or applications of vessel visualization!\n",
    "\n",
    "**(b)** What typical image modalities are for data aquisition?\n",
    "\n",
    "**(c)** Which requirements should be fulfilled by a good vessel visualization?\n",
    "\n",
    "**(d)** What are the convenional vessel visualization methods named in the lecture?"
   ]
  },
  {
   "cell_type": "markdown",
   "metadata": {},
   "source": [
    "----\n",
    "\n",
    "### (a)\n",
    "* diagnosis of vascular diseases\n",
    "* planing of therapies\n",
    "* minimal invasive endovascular surgery\n",
    "\n",
    "### (b)\n",
    "* mostly CT angiography due to standartized Hounsfield scale, slightly higher spatial resolution (compared to MRI) and homogenous intensity values\n",
    "\n",
    "### (c)\n",
    "* exact representation of underlying data\n",
    "* accurate topology (connectivity, branchings)\n",
    "* intuitive & comprehensive, detailed visualizations\n",
    "\n",
    "### (d)\n",
    "* using DVR, e.g. MIP or CVP\n",
    "* use 2D slices"
   ]
  },
  {
   "cell_type": "markdown",
   "metadata": {
    "id": "H4meRjk22gEM"
   },
   "source": [
    "# Task 02: Curved Planar Reformation"
   ]
  },
  {
   "cell_type": "markdown",
   "metadata": {
    "id": "AVmgi89V2l7k"
   },
   "source": [
    "**(a)** Briefly describe what Curved Planar Reformation (CPR) is.\n",
    "\n",
    "**(b)** Describe the differences between *Projected CPR*, *Stretched CPR*, and *Straightened CPR*.\n",
    "\n",
    "**(c)** What is CPR useful for?"
   ]
  },
  {
   "cell_type": "markdown",
   "metadata": {},
   "source": [
    "----\n",
    "\n",
    "### (a)\n",
    "* visualization to show the centerline and the radius along the vessel\n",
    "* projected onto a 2D plane\n",
    "* show all relevant information in one view\n",
    "\n",
    "### (b)\n",
    "* Projected CPR - centerline projected perpendicular to image data\n",
    "* Stretched CPR - no overlapping projections\n",
    "* Straightened CPR - centerline mapped onto a straight line\n",
    "\n",
    "### (c)\n",
    "* find vascular diseases (e.g. stenoses)"
   ]
  },
  {
   "cell_type": "markdown",
   "metadata": {
    "id": "oTzo8TsQ6QkV"
   },
   "source": [
    "# Task 03: Model-based Vessel Visualization"
   ]
  },
  {
   "cell_type": "markdown",
   "metadata": {
    "id": "OXuBuSwT7eIe"
   },
   "source": [
    "**(a)** What is the difference between model-based and conventional methods?\n",
    "\n",
    "**(b)** Which model-based methods are mentioned in the lecture?\n",
    "\n",
    "**(c)** Explain the difference between implicit and explicit representations for a simple circle. What advantage(s) do implicit representations have over explicit ones? Specify implicit and explicit parts of Marching Cubes.\n",
    "\n"
   ]
  },
  {
   "cell_type": "markdown",
   "metadata": {},
   "source": [
    "----\n",
    "\n",
    "### (a)\n",
    "* visualize vessels using concatenated graphics primitives (e.g. truncated cones)\n",
    "* input: vessel segmentation, centerline, branching structure\n",
    "* conventional methods: use slices/voxels to create a 2D/3D view\n",
    "\n",
    "### (b)\n",
    "* rendering vessel sections as cylinders or truncated cones\n",
    "\n",
    "### (c)\n",
    "* explicit representation of a circle: use the parametric functions x = r + cos(α) and y = r + sin(α)\n",
    "* implicit representation: x² + y² - r = 0\n",
    "* advantages of implicit surfaces: smooth surface, smooth bifurcations"
   ]
  },
  {
   "cell_type": "markdown",
   "metadata": {
    "id": "_hrdy_TsGwMS"
   },
   "source": [
    "# Task 04: Convolution Surfaces"
   ]
  },
  {
   "cell_type": "markdown",
   "metadata": {
    "id": "IVyyJi0Y3_3v"
   },
   "source": [
    "**(a)** What is convolution?\n",
    "\n",
    "**(b)** How are convolution surfaces generated?\n",
    "\n",
    "**(c)** Explain *Unwanted Blending* and *Bulging* regarding implicit vessel visualization methods."
   ]
  },
  {
   "cell_type": "markdown",
   "metadata": {
    "id": "sq5hqCofZ7HP"
   },
   "source": [
    "# Task 05: Model-free Vessel Visualization"
   ]
  },
  {
   "cell_type": "markdown",
   "metadata": {
    "id": "2y1D40ebZ_xg"
   },
   "source": [
    "**(a)** What model assumptions do Multi-level Partition of Unity Implicits (MPUI) make?\n",
    "\n",
    "**(b)** Until now we choose (laplacian) smoothing as a way to remove staircase artifacts. Do you also use it in case of vessel visualization? Why is it feasible / not feasible in this case?\n",
    "\n",
    "**(c)** In comparison to Marchign Cubes, what are the advantages of MPUI?"
   ]
  }
 ],
 "metadata": {
  "colab": {
   "collapsed_sections": [],
   "name": "medvis22_exercisesheet10.ipynb",
   "provenance": []
  },
  "kernelspec": {
   "display_name": "Python 3 (ipykernel)",
   "language": "python",
   "name": "python3"
  },
  "language_info": {
   "codemirror_mode": {
    "name": "ipython",
    "version": 3
   },
   "file_extension": ".py",
   "mimetype": "text/x-python",
   "name": "python",
   "nbconvert_exporter": "python",
   "pygments_lexer": "ipython3",
   "version": "3.10.4"
  }
 },
 "nbformat": 4,
 "nbformat_minor": 1
}
