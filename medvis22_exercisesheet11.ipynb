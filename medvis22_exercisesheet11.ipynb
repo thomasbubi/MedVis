{
 "cells": [
  {
   "cell_type": "markdown",
   "metadata": {
    "id": "9_Di7kkau_O4"
   },
   "source": [
    "# Exercise Sheet 11\n",
    "Virtual Endoscopy & Exam Openers\n",
    "\n",
    "---"
   ]
  },
  {
   "cell_type": "markdown",
   "metadata": {
    "id": "tPtL9whevFnn"
   },
   "source": [
    "# Task 01: Virtual Endoscopy"
   ]
  },
  {
   "cell_type": "markdown",
   "metadata": {
    "id": "tQUu8sftvEtq"
   },
   "source": [
    "**(a)** Explain the basic principle of virtual endoscopy. \n",
    "\n",
    "**(b)** Name 2 requirements of virtual endoscopy.\n",
    "\n",
    "**(c)** What are advantages and disadvantages of virtual endoscopy compared to real endoscopy?"
   ]
  },
  {
   "cell_type": "markdown",
   "metadata": {},
   "source": [
    "----\n",
    "\n",
    "### (a)\n",
    "* camera fly-through in air-filled organs (e.g. bronchoscopy or coloscopy)\n",
    "* use CT imaging\n",
    "* use a 3D visualization of the organ\n",
    "* calculate the camera path\n",
    "\n",
    "### (b)\n",
    "* extended field of view, rotating the camera\n",
    "* integration of measurements\n",
    "\n",
    "### (c)\n",
    "* advantages\n",
    "  * more comfort for the patient\n",
    "  * no bleedings can occur\n",
    "  * field of view is more flexible, camera can be rotated, not only fish-eye lenses\n",
    "* disadvantages\n",
    "  * no information about elasticity of tissue\n",
    "  * inflamations not detectable\n",
    "  * removal of tissue not possible\n",
    "  * ionizing radiation when using CT imaging"
   ]
  },
  {
   "cell_type": "markdown",
   "metadata": {
    "id": "GbdXUatbvz6J"
   },
   "source": [
    "# Task 02: Virtual Endoscopy Navigation"
   ]
  },
  {
   "cell_type": "markdown",
   "metadata": {
    "id": "Alt3Rr4GwTm0"
   },
   "source": [
    "**(a)** Why is navigation an important topic in virtual endoscopy?\n",
    "\n",
    "**(b)** What is fully automatic navigation, semi-automatic navigation, and guided navigation?\n",
    "\n",
    "**(c)** What are requirements for navigation in virtual endoscopy?"
   ]
  },
  {
   "cell_type": "markdown",
   "metadata": {
    "id": "GVYz0HVw0B-b"
   },
   "source": [
    "# Task 03: Virtual Endoscopy Rendering"
   ]
  },
  {
   "cell_type": "markdown",
   "metadata": {
    "id": "oca9gBRa0Fws"
   },
   "source": [
    "**(a)** Which two rendering techniques can be used for virtual endoscopy?\n",
    "\n",
    "**(b)** What are advantages and disadvantages of them?\n",
    "\n",
    "**(c)** Which techniques can be used to emphasize depth perception?"
   ]
  },
  {
   "cell_type": "markdown",
   "metadata": {},
   "source": [
    "----\n",
    "\n",
    "### (a)\n",
    "* Surface Rendering\n",
    "* Direct Volume Rendering\n",
    "\n",
    "### (b)\n",
    "* Surface Rendering\n",
    "  * fast interaction with the surface\n",
    "  * preprocessing required\n",
    "* Direct Volume Rendering\n",
    "  * processing of the original dara\n",
    "  * more computational power needed\n",
    "  * no segmentation avalaible\n",
    "  * hard to find good transfer function\n",
    "\n",
    "### (c)\n",
    "* use perspective camera\n",
    "* using shading (e.g. Phong Shading)\n",
    "* using shadows, ambient occlusion and texturing"
   ]
  },
  {
   "cell_type": "markdown",
   "metadata": {
    "id": "-WNdRPon0W5M"
   },
   "source": [
    "# Task 04: Applications"
   ]
  },
  {
   "cell_type": "markdown",
   "metadata": {
    "id": "o4ft2ZHq0bDu"
   },
   "source": [
    "**(a)** Name 3 different applications for virtual endoscopy. \n",
    "\n",
    "**(b)** For one of them, describe why virtual endocsopy is used instead of real endoscopy."
   ]
  },
  {
   "cell_type": "markdown",
   "metadata": {
    "id": "to4E1qPmyg7-"
   },
   "source": [
    "# Task 05: Exam Openers"
   ]
  },
  {
   "cell_type": "markdown",
   "metadata": {
    "id": "sSQD_2NTyr0Q"
   },
   "source": [
    "**(a)** What are goals of medical visualizations?\n",
    "\n",
    "**(b)** Which methods are suited to explore medical data as a *radiologist* (explore scanner data, identify findings)?\n",
    "\n",
    "**(c)** Which methods are suited to explore medical data as an *attending physician* (treatment decision & planning)? \n",
    "\n",
    "**(d)** Name one widget that could be more useful for a *radiologist* and one that could be more useful for an *attending physician*."
   ]
  },
  {
   "cell_type": "markdown",
   "metadata": {},
   "source": [
    "----\n",
    "\n",
    "### (a)\n",
    "* support for therapy planning and diagnosis\n",
    "* support physicians in decision making\n",
    "* support for surgery planning\n",
    "\n",
    "### (b)\n",
    "* use 2D slices, scroll through them, use windowing function to adjust brightness/contrast\n",
    "* use Multiplanar Reformation\n",
    "\n",
    "### (c)\n",
    "* 2D: ruler for radiologists\n",
    "* 3D: widgets (distance measures, angles) for attending physicians"
   ]
  }
 ],
 "metadata": {
  "colab": {
   "collapsed_sections": [],
   "name": "medvis22_exercisesheet11.ipynb",
   "provenance": []
  },
  "kernelspec": {
   "display_name": "Python 3 (ipykernel)",
   "language": "python",
   "name": "python3"
  },
  "language_info": {
   "codemirror_mode": {
    "name": "ipython",
    "version": 3
   },
   "file_extension": ".py",
   "mimetype": "text/x-python",
   "name": "python",
   "nbconvert_exporter": "python",
   "pygments_lexer": "ipython3",
   "version": "3.10.4"
  }
 },
 "nbformat": 4,
 "nbformat_minor": 1
}
